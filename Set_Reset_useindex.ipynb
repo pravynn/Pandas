{
 "cells": [
  {
   "cell_type": "code",
   "execution_count": 3,
   "id": "3ce6adf3",
   "metadata": {},
   "outputs": [],
   "source": [
    "people={\n",
    "    \"first\":[\"corey\",\"jane\",\"john\"],\n",
    "    \"last\":[\"schafer\",\"doe\",\"doe\"],\n",
    "    \"email\":[\"coreyMachafer@gmail.com\",\"janedoe@gmail.com\",\"johndoe@gmail.com\"]\n",
    "}"
   ]
  },
  {
   "cell_type": "code",
   "execution_count": 4,
   "id": "cb97500f",
   "metadata": {},
   "outputs": [
    {
     "data": {
      "text/plain": [
       "['coreyMachafer@gmail.com', 'janedoe@gmail.com', 'johndoe@gmail.com']"
      ]
     },
     "execution_count": 4,
     "metadata": {},
     "output_type": "execute_result"
    }
   ],
   "source": [
    "people['email']"
   ]
  },
  {
   "cell_type": "code",
   "execution_count": 5,
   "id": "6373d018",
   "metadata": {},
   "outputs": [],
   "source": [
    "import pandas as pd"
   ]
  },
  {
   "cell_type": "code",
   "execution_count": 6,
   "id": "cc74d249",
   "metadata": {},
   "outputs": [],
   "source": [
    "df=pd.DataFrame(people)"
   ]
  },
  {
   "cell_type": "code",
   "execution_count": 7,
   "id": "95dd895a",
   "metadata": {},
   "outputs": [
    {
     "data": {
      "text/html": [
       "<div>\n",
       "<style scoped>\n",
       "    .dataframe tbody tr th:only-of-type {\n",
       "        vertical-align: middle;\n",
       "    }\n",
       "\n",
       "    .dataframe tbody tr th {\n",
       "        vertical-align: top;\n",
       "    }\n",
       "\n",
       "    .dataframe thead th {\n",
       "        text-align: right;\n",
       "    }\n",
       "</style>\n",
       "<table border=\"1\" class=\"dataframe\">\n",
       "  <thead>\n",
       "    <tr style=\"text-align: right;\">\n",
       "      <th></th>\n",
       "      <th>first</th>\n",
       "      <th>last</th>\n",
       "      <th>email</th>\n",
       "    </tr>\n",
       "  </thead>\n",
       "  <tbody>\n",
       "    <tr>\n",
       "      <th>0</th>\n",
       "      <td>corey</td>\n",
       "      <td>schafer</td>\n",
       "      <td>coreyMachafer@gmail.com</td>\n",
       "    </tr>\n",
       "    <tr>\n",
       "      <th>1</th>\n",
       "      <td>jane</td>\n",
       "      <td>doe</td>\n",
       "      <td>janedoe@gmail.com</td>\n",
       "    </tr>\n",
       "    <tr>\n",
       "      <th>2</th>\n",
       "      <td>john</td>\n",
       "      <td>doe</td>\n",
       "      <td>johndoe@gmail.com</td>\n",
       "    </tr>\n",
       "  </tbody>\n",
       "</table>\n",
       "</div>"
      ],
      "text/plain": [
       "   first     last                    email\n",
       "0  corey  schafer  coreyMachafer@gmail.com\n",
       "1   jane      doe        janedoe@gmail.com\n",
       "2   john      doe        johndoe@gmail.com"
      ]
     },
     "execution_count": 7,
     "metadata": {},
     "output_type": "execute_result"
    }
   ],
   "source": [
    "df"
   ]
  },
  {
   "cell_type": "code",
   "execution_count": 8,
   "id": "75be92df",
   "metadata": {},
   "outputs": [],
   "source": [
    "df.set_index('email', inplace=True)"
   ]
  },
  {
   "cell_type": "code",
   "execution_count": 9,
   "id": "52ffa623",
   "metadata": {},
   "outputs": [
    {
     "data": {
      "text/plain": [
       "Index(['coreyMachafer@gmail.com', 'janedoe@gmail.com', 'johndoe@gmail.com'], dtype='object', name='email')"
      ]
     },
     "execution_count": 9,
     "metadata": {},
     "output_type": "execute_result"
    }
   ],
   "source": [
    "df.index"
   ]
  },
  {
   "cell_type": "code",
   "execution_count": 10,
   "id": "a0ed4de8",
   "metadata": {},
   "outputs": [
    {
     "data": {
      "text/plain": [
       "'corey'"
      ]
     },
     "execution_count": 10,
     "metadata": {},
     "output_type": "execute_result"
    }
   ],
   "source": [
    "df.loc['coreyMachafer@gmail.com','first']"
   ]
  },
  {
   "cell_type": "code",
   "execution_count": 11,
   "id": "3e74c19f",
   "metadata": {},
   "outputs": [
    {
     "data": {
      "text/html": [
       "<div>\n",
       "<style scoped>\n",
       "    .dataframe tbody tr th:only-of-type {\n",
       "        vertical-align: middle;\n",
       "    }\n",
       "\n",
       "    .dataframe tbody tr th {\n",
       "        vertical-align: top;\n",
       "    }\n",
       "\n",
       "    .dataframe thead th {\n",
       "        text-align: right;\n",
       "    }\n",
       "</style>\n",
       "<table border=\"1\" class=\"dataframe\">\n",
       "  <thead>\n",
       "    <tr style=\"text-align: right;\">\n",
       "      <th></th>\n",
       "      <th>first</th>\n",
       "      <th>last</th>\n",
       "    </tr>\n",
       "    <tr>\n",
       "      <th>email</th>\n",
       "      <th></th>\n",
       "      <th></th>\n",
       "    </tr>\n",
       "  </thead>\n",
       "  <tbody>\n",
       "    <tr>\n",
       "      <th>coreyMachafer@gmail.com</th>\n",
       "      <td>corey</td>\n",
       "      <td>schafer</td>\n",
       "    </tr>\n",
       "    <tr>\n",
       "      <th>janedoe@gmail.com</th>\n",
       "      <td>jane</td>\n",
       "      <td>doe</td>\n",
       "    </tr>\n",
       "    <tr>\n",
       "      <th>johndoe@gmail.com</th>\n",
       "      <td>john</td>\n",
       "      <td>doe</td>\n",
       "    </tr>\n",
       "  </tbody>\n",
       "</table>\n",
       "</div>"
      ],
      "text/plain": [
       "                         first     last\n",
       "email                                  \n",
       "coreyMachafer@gmail.com  corey  schafer\n",
       "janedoe@gmail.com         jane      doe\n",
       "johndoe@gmail.com         john      doe"
      ]
     },
     "execution_count": 11,
     "metadata": {},
     "output_type": "execute_result"
    }
   ],
   "source": [
    "df.iloc[0:4]"
   ]
  },
  {
   "cell_type": "code",
   "execution_count": 12,
   "id": "aba671d4",
   "metadata": {},
   "outputs": [],
   "source": [
    "import pandas as pd"
   ]
  },
  {
   "cell_type": "code",
   "execution_count": 13,
   "id": "12b900c1",
   "metadata": {},
   "outputs": [],
   "source": [
    "data=pd.DataFrame({'Brand':['Maruti','Benz','Hyundai','Tata','Mahindra','Renault','BMW','Auadi','RR'],'year':[2012,2000,2001,2002,2003,1998,1999,1999,2000],'kms Driven':[50000,20000,2500,1500,2300,13509,4058,5987,4890],'city':['Chennai','Pune','Mumbai','kolkata','Bangalore','Delhi','Vizag','Guragon','Ghaizabad'],'Milaege':[25,23,21,19,23,43,21,23,34]},)"
   ]
  },
  {
   "cell_type": "code",
   "execution_count": 14,
   "id": "aeea5ca6",
   "metadata": {},
   "outputs": [
    {
     "data": {
      "text/html": [
       "<div>\n",
       "<style scoped>\n",
       "    .dataframe tbody tr th:only-of-type {\n",
       "        vertical-align: middle;\n",
       "    }\n",
       "\n",
       "    .dataframe tbody tr th {\n",
       "        vertical-align: top;\n",
       "    }\n",
       "\n",
       "    .dataframe thead th {\n",
       "        text-align: right;\n",
       "    }\n",
       "</style>\n",
       "<table border=\"1\" class=\"dataframe\">\n",
       "  <thead>\n",
       "    <tr style=\"text-align: right;\">\n",
       "      <th></th>\n",
       "      <th>Brand</th>\n",
       "      <th>year</th>\n",
       "      <th>kms Driven</th>\n",
       "      <th>city</th>\n",
       "      <th>Milaege</th>\n",
       "    </tr>\n",
       "  </thead>\n",
       "  <tbody>\n",
       "    <tr>\n",
       "      <th>0</th>\n",
       "      <td>Maruti</td>\n",
       "      <td>2012</td>\n",
       "      <td>50000</td>\n",
       "      <td>Chennai</td>\n",
       "      <td>25</td>\n",
       "    </tr>\n",
       "    <tr>\n",
       "      <th>1</th>\n",
       "      <td>Benz</td>\n",
       "      <td>2000</td>\n",
       "      <td>20000</td>\n",
       "      <td>Pune</td>\n",
       "      <td>23</td>\n",
       "    </tr>\n",
       "    <tr>\n",
       "      <th>2</th>\n",
       "      <td>Hyundai</td>\n",
       "      <td>2001</td>\n",
       "      <td>2500</td>\n",
       "      <td>Mumbai</td>\n",
       "      <td>21</td>\n",
       "    </tr>\n",
       "    <tr>\n",
       "      <th>3</th>\n",
       "      <td>Tata</td>\n",
       "      <td>2002</td>\n",
       "      <td>1500</td>\n",
       "      <td>kolkata</td>\n",
       "      <td>19</td>\n",
       "    </tr>\n",
       "    <tr>\n",
       "      <th>4</th>\n",
       "      <td>Mahindra</td>\n",
       "      <td>2003</td>\n",
       "      <td>2300</td>\n",
       "      <td>Bangalore</td>\n",
       "      <td>23</td>\n",
       "    </tr>\n",
       "    <tr>\n",
       "      <th>5</th>\n",
       "      <td>Renault</td>\n",
       "      <td>1998</td>\n",
       "      <td>13509</td>\n",
       "      <td>Delhi</td>\n",
       "      <td>43</td>\n",
       "    </tr>\n",
       "    <tr>\n",
       "      <th>6</th>\n",
       "      <td>BMW</td>\n",
       "      <td>1999</td>\n",
       "      <td>4058</td>\n",
       "      <td>Vizag</td>\n",
       "      <td>21</td>\n",
       "    </tr>\n",
       "    <tr>\n",
       "      <th>7</th>\n",
       "      <td>Auadi</td>\n",
       "      <td>1999</td>\n",
       "      <td>5987</td>\n",
       "      <td>Guragon</td>\n",
       "      <td>23</td>\n",
       "    </tr>\n",
       "    <tr>\n",
       "      <th>8</th>\n",
       "      <td>RR</td>\n",
       "      <td>2000</td>\n",
       "      <td>4890</td>\n",
       "      <td>Ghaizabad</td>\n",
       "      <td>34</td>\n",
       "    </tr>\n",
       "  </tbody>\n",
       "</table>\n",
       "</div>"
      ],
      "text/plain": [
       "      Brand  year  kms Driven       city  Milaege\n",
       "0    Maruti  2012       50000    Chennai       25\n",
       "1      Benz  2000       20000       Pune       23\n",
       "2   Hyundai  2001        2500     Mumbai       21\n",
       "3      Tata  2002        1500    kolkata       19\n",
       "4  Mahindra  2003        2300  Bangalore       23\n",
       "5   Renault  1998       13509      Delhi       43\n",
       "6       BMW  1999        4058      Vizag       21\n",
       "7     Auadi  1999        5987    Guragon       23\n",
       "8        RR  2000        4890  Ghaizabad       34"
      ]
     },
     "execution_count": 14,
     "metadata": {},
     "output_type": "execute_result"
    }
   ],
   "source": [
    "data"
   ]
  },
  {
   "cell_type": "code",
   "execution_count": 15,
   "id": "a43ca8bb",
   "metadata": {},
   "outputs": [
    {
     "data": {
      "text/html": [
       "<div>\n",
       "<style scoped>\n",
       "    .dataframe tbody tr th:only-of-type {\n",
       "        vertical-align: middle;\n",
       "    }\n",
       "\n",
       "    .dataframe tbody tr th {\n",
       "        vertical-align: top;\n",
       "    }\n",
       "\n",
       "    .dataframe thead th {\n",
       "        text-align: right;\n",
       "    }\n",
       "</style>\n",
       "<table border=\"1\" class=\"dataframe\">\n",
       "  <thead>\n",
       "    <tr style=\"text-align: right;\">\n",
       "      <th></th>\n",
       "      <th>Brand</th>\n",
       "      <th>year</th>\n",
       "      <th>kms Driven</th>\n",
       "      <th>city</th>\n",
       "      <th>Milaege</th>\n",
       "    </tr>\n",
       "  </thead>\n",
       "  <tbody>\n",
       "    <tr>\n",
       "      <th>0</th>\n",
       "      <td>Maruti</td>\n",
       "      <td>2012</td>\n",
       "      <td>50000</td>\n",
       "      <td>Chennai</td>\n",
       "      <td>25</td>\n",
       "    </tr>\n",
       "  </tbody>\n",
       "</table>\n",
       "</div>"
      ],
      "text/plain": [
       "    Brand  year  kms Driven     city  Milaege\n",
       "0  Maruti  2012       50000  Chennai       25"
      ]
     },
     "execution_count": 15,
     "metadata": {},
     "output_type": "execute_result"
    }
   ],
   "source": [
    "data.loc[(data.Brand=='Maruti')&(data.Milaege>20)]"
   ]
  },
  {
   "cell_type": "code",
   "execution_count": 16,
   "id": "bd46eea4",
   "metadata": {},
   "outputs": [
    {
     "data": {
      "text/html": [
       "<div>\n",
       "<style scoped>\n",
       "    .dataframe tbody tr th:only-of-type {\n",
       "        vertical-align: middle;\n",
       "    }\n",
       "\n",
       "    .dataframe tbody tr th {\n",
       "        vertical-align: top;\n",
       "    }\n",
       "\n",
       "    .dataframe thead th {\n",
       "        text-align: right;\n",
       "    }\n",
       "</style>\n",
       "<table border=\"1\" class=\"dataframe\">\n",
       "  <thead>\n",
       "    <tr style=\"text-align: right;\">\n",
       "      <th></th>\n",
       "      <th>Brand</th>\n",
       "      <th>year</th>\n",
       "      <th>kms Driven</th>\n",
       "      <th>city</th>\n",
       "      <th>Milaege</th>\n",
       "    </tr>\n",
       "  </thead>\n",
       "  <tbody>\n",
       "    <tr>\n",
       "      <th>2</th>\n",
       "      <td>Hyundai</td>\n",
       "      <td>2001</td>\n",
       "      <td>2500</td>\n",
       "      <td>Mumbai</td>\n",
       "      <td>21</td>\n",
       "    </tr>\n",
       "    <tr>\n",
       "      <th>3</th>\n",
       "      <td>Tata</td>\n",
       "      <td>2002</td>\n",
       "      <td>1500</td>\n",
       "      <td>kolkata</td>\n",
       "      <td>19</td>\n",
       "    </tr>\n",
       "    <tr>\n",
       "      <th>4</th>\n",
       "      <td>Mahindra</td>\n",
       "      <td>2003</td>\n",
       "      <td>2300</td>\n",
       "      <td>Bangalore</td>\n",
       "      <td>23</td>\n",
       "    </tr>\n",
       "    <tr>\n",
       "      <th>5</th>\n",
       "      <td>Renault</td>\n",
       "      <td>1998</td>\n",
       "      <td>13509</td>\n",
       "      <td>Delhi</td>\n",
       "      <td>43</td>\n",
       "    </tr>\n",
       "  </tbody>\n",
       "</table>\n",
       "</div>"
      ],
      "text/plain": [
       "      Brand  year  kms Driven       city  Milaege\n",
       "2   Hyundai  2001        2500     Mumbai       21\n",
       "3      Tata  2002        1500    kolkata       19\n",
       "4  Mahindra  2003        2300  Bangalore       23\n",
       "5   Renault  1998       13509      Delhi       43"
      ]
     },
     "execution_count": 16,
     "metadata": {},
     "output_type": "execute_result"
    }
   ],
   "source": [
    "data.loc[2:5]"
   ]
  },
  {
   "cell_type": "code",
   "execution_count": 17,
   "id": "dc4bee6c",
   "metadata": {},
   "outputs": [
    {
     "data": {
      "text/html": [
       "<div>\n",
       "<style scoped>\n",
       "    .dataframe tbody tr th:only-of-type {\n",
       "        vertical-align: middle;\n",
       "    }\n",
       "\n",
       "    .dataframe tbody tr th {\n",
       "        vertical-align: top;\n",
       "    }\n",
       "\n",
       "    .dataframe thead th {\n",
       "        text-align: right;\n",
       "    }\n",
       "</style>\n",
       "<table border=\"1\" class=\"dataframe\">\n",
       "  <thead>\n",
       "    <tr style=\"text-align: right;\">\n",
       "      <th></th>\n",
       "      <th>Brand</th>\n",
       "      <th>year</th>\n",
       "      <th>kms Driven</th>\n",
       "      <th>city</th>\n",
       "      <th>Milaege</th>\n",
       "    </tr>\n",
       "  </thead>\n",
       "  <tbody>\n",
       "    <tr>\n",
       "      <th>2</th>\n",
       "      <td>Hyundai</td>\n",
       "      <td>2001</td>\n",
       "      <td>2500</td>\n",
       "      <td>Mumbai</td>\n",
       "      <td>21</td>\n",
       "    </tr>\n",
       "    <tr>\n",
       "      <th>3</th>\n",
       "      <td>Tata</td>\n",
       "      <td>2002</td>\n",
       "      <td>1500</td>\n",
       "      <td>kolkata</td>\n",
       "      <td>19</td>\n",
       "    </tr>\n",
       "    <tr>\n",
       "      <th>4</th>\n",
       "      <td>Mahindra</td>\n",
       "      <td>2003</td>\n",
       "      <td>2300</td>\n",
       "      <td>Bangalore</td>\n",
       "      <td>23</td>\n",
       "    </tr>\n",
       "  </tbody>\n",
       "</table>\n",
       "</div>"
      ],
      "text/plain": [
       "      Brand  year  kms Driven       city  Milaege\n",
       "2   Hyundai  2001        2500     Mumbai       21\n",
       "3      Tata  2002        1500    kolkata       19\n",
       "4  Mahindra  2003        2300  Bangalore       23"
      ]
     },
     "execution_count": 17,
     "metadata": {},
     "output_type": "execute_result"
    }
   ],
   "source": [
    "data.iloc[2:5]"
   ]
  },
  {
   "cell_type": "code",
   "execution_count": 18,
   "id": "e13517f9",
   "metadata": {},
   "outputs": [
    {
     "data": {
      "text/html": [
       "<div>\n",
       "<style scoped>\n",
       "    .dataframe tbody tr th:only-of-type {\n",
       "        vertical-align: middle;\n",
       "    }\n",
       "\n",
       "    .dataframe tbody tr th {\n",
       "        vertical-align: top;\n",
       "    }\n",
       "\n",
       "    .dataframe thead th {\n",
       "        text-align: right;\n",
       "    }\n",
       "</style>\n",
       "<table border=\"1\" class=\"dataframe\">\n",
       "  <thead>\n",
       "    <tr style=\"text-align: right;\">\n",
       "      <th></th>\n",
       "      <th>year</th>\n",
       "      <th>kms Driven</th>\n",
       "      <th>city</th>\n",
       "      <th>Milaege</th>\n",
       "    </tr>\n",
       "    <tr>\n",
       "      <th>Brand</th>\n",
       "      <th></th>\n",
       "      <th></th>\n",
       "      <th></th>\n",
       "      <th></th>\n",
       "    </tr>\n",
       "  </thead>\n",
       "  <tbody>\n",
       "    <tr>\n",
       "      <th>Maruti</th>\n",
       "      <td>2012</td>\n",
       "      <td>50000</td>\n",
       "      <td>Chennai</td>\n",
       "      <td>25</td>\n",
       "    </tr>\n",
       "    <tr>\n",
       "      <th>Benz</th>\n",
       "      <td>2000</td>\n",
       "      <td>20000</td>\n",
       "      <td>Pune</td>\n",
       "      <td>23</td>\n",
       "    </tr>\n",
       "    <tr>\n",
       "      <th>Hyundai</th>\n",
       "      <td>2001</td>\n",
       "      <td>2500</td>\n",
       "      <td>Mumbai</td>\n",
       "      <td>21</td>\n",
       "    </tr>\n",
       "    <tr>\n",
       "      <th>Tata</th>\n",
       "      <td>2002</td>\n",
       "      <td>1500</td>\n",
       "      <td>kolkata</td>\n",
       "      <td>19</td>\n",
       "    </tr>\n",
       "    <tr>\n",
       "      <th>Mahindra</th>\n",
       "      <td>2003</td>\n",
       "      <td>2300</td>\n",
       "      <td>Bangalore</td>\n",
       "      <td>23</td>\n",
       "    </tr>\n",
       "    <tr>\n",
       "      <th>Renault</th>\n",
       "      <td>1998</td>\n",
       "      <td>13509</td>\n",
       "      <td>Delhi</td>\n",
       "      <td>43</td>\n",
       "    </tr>\n",
       "    <tr>\n",
       "      <th>BMW</th>\n",
       "      <td>1999</td>\n",
       "      <td>4058</td>\n",
       "      <td>Vizag</td>\n",
       "      <td>21</td>\n",
       "    </tr>\n",
       "    <tr>\n",
       "      <th>Auadi</th>\n",
       "      <td>1999</td>\n",
       "      <td>5987</td>\n",
       "      <td>Guragon</td>\n",
       "      <td>23</td>\n",
       "    </tr>\n",
       "    <tr>\n",
       "      <th>RR</th>\n",
       "      <td>2000</td>\n",
       "      <td>4890</td>\n",
       "      <td>Ghaizabad</td>\n",
       "      <td>34</td>\n",
       "    </tr>\n",
       "  </tbody>\n",
       "</table>\n",
       "</div>"
      ],
      "text/plain": [
       "          year  kms Driven       city  Milaege\n",
       "Brand                                         \n",
       "Maruti    2012       50000    Chennai       25\n",
       "Benz      2000       20000       Pune       23\n",
       "Hyundai   2001        2500     Mumbai       21\n",
       "Tata      2002        1500    kolkata       19\n",
       "Mahindra  2003        2300  Bangalore       23\n",
       "Renault   1998       13509      Delhi       43\n",
       "BMW       1999        4058      Vizag       21\n",
       "Auadi     1999        5987    Guragon       23\n",
       "RR        2000        4890  Ghaizabad       34"
      ]
     },
     "execution_count": 18,
     "metadata": {},
     "output_type": "execute_result"
    }
   ],
   "source": [
    "data.set_index('Brand')"
   ]
  },
  {
   "cell_type": "code",
   "execution_count": 19,
   "id": "165c5ba4",
   "metadata": {},
   "outputs": [],
   "source": [
    "data.reset_index(inplace=True,)"
   ]
  },
  {
   "cell_type": "code",
   "execution_count": 20,
   "id": "d48534f3",
   "metadata": {},
   "outputs": [
    {
     "data": {
      "text/html": [
       "<div>\n",
       "<style scoped>\n",
       "    .dataframe tbody tr th:only-of-type {\n",
       "        vertical-align: middle;\n",
       "    }\n",
       "\n",
       "    .dataframe tbody tr th {\n",
       "        vertical-align: top;\n",
       "    }\n",
       "\n",
       "    .dataframe thead th {\n",
       "        text-align: right;\n",
       "    }\n",
       "</style>\n",
       "<table border=\"1\" class=\"dataframe\">\n",
       "  <thead>\n",
       "    <tr style=\"text-align: right;\">\n",
       "      <th></th>\n",
       "      <th>index</th>\n",
       "      <th>Brand</th>\n",
       "      <th>year</th>\n",
       "      <th>kms Driven</th>\n",
       "      <th>city</th>\n",
       "      <th>Milaege</th>\n",
       "    </tr>\n",
       "  </thead>\n",
       "  <tbody>\n",
       "    <tr>\n",
       "      <th>0</th>\n",
       "      <td>0</td>\n",
       "      <td>Maruti</td>\n",
       "      <td>2012</td>\n",
       "      <td>50000</td>\n",
       "      <td>Chennai</td>\n",
       "      <td>25</td>\n",
       "    </tr>\n",
       "    <tr>\n",
       "      <th>1</th>\n",
       "      <td>1</td>\n",
       "      <td>Benz</td>\n",
       "      <td>2000</td>\n",
       "      <td>20000</td>\n",
       "      <td>Pune</td>\n",
       "      <td>23</td>\n",
       "    </tr>\n",
       "    <tr>\n",
       "      <th>2</th>\n",
       "      <td>2</td>\n",
       "      <td>Hyundai</td>\n",
       "      <td>2001</td>\n",
       "      <td>2500</td>\n",
       "      <td>Mumbai</td>\n",
       "      <td>21</td>\n",
       "    </tr>\n",
       "    <tr>\n",
       "      <th>3</th>\n",
       "      <td>3</td>\n",
       "      <td>Tata</td>\n",
       "      <td>2002</td>\n",
       "      <td>1500</td>\n",
       "      <td>kolkata</td>\n",
       "      <td>19</td>\n",
       "    </tr>\n",
       "    <tr>\n",
       "      <th>4</th>\n",
       "      <td>4</td>\n",
       "      <td>Mahindra</td>\n",
       "      <td>2003</td>\n",
       "      <td>2300</td>\n",
       "      <td>Bangalore</td>\n",
       "      <td>23</td>\n",
       "    </tr>\n",
       "    <tr>\n",
       "      <th>5</th>\n",
       "      <td>5</td>\n",
       "      <td>Renault</td>\n",
       "      <td>1998</td>\n",
       "      <td>13509</td>\n",
       "      <td>Delhi</td>\n",
       "      <td>43</td>\n",
       "    </tr>\n",
       "    <tr>\n",
       "      <th>6</th>\n",
       "      <td>6</td>\n",
       "      <td>BMW</td>\n",
       "      <td>1999</td>\n",
       "      <td>4058</td>\n",
       "      <td>Vizag</td>\n",
       "      <td>21</td>\n",
       "    </tr>\n",
       "    <tr>\n",
       "      <th>7</th>\n",
       "      <td>7</td>\n",
       "      <td>Auadi</td>\n",
       "      <td>1999</td>\n",
       "      <td>5987</td>\n",
       "      <td>Guragon</td>\n",
       "      <td>23</td>\n",
       "    </tr>\n",
       "    <tr>\n",
       "      <th>8</th>\n",
       "      <td>8</td>\n",
       "      <td>RR</td>\n",
       "      <td>2000</td>\n",
       "      <td>4890</td>\n",
       "      <td>Ghaizabad</td>\n",
       "      <td>34</td>\n",
       "    </tr>\n",
       "  </tbody>\n",
       "</table>\n",
       "</div>"
      ],
      "text/plain": [
       "   index     Brand  year  kms Driven       city  Milaege\n",
       "0      0    Maruti  2012       50000    Chennai       25\n",
       "1      1      Benz  2000       20000       Pune       23\n",
       "2      2   Hyundai  2001        2500     Mumbai       21\n",
       "3      3      Tata  2002        1500    kolkata       19\n",
       "4      4  Mahindra  2003        2300  Bangalore       23\n",
       "5      5   Renault  1998       13509      Delhi       43\n",
       "6      6       BMW  1999        4058      Vizag       21\n",
       "7      7     Auadi  1999        5987    Guragon       23\n",
       "8      8        RR  2000        4890  Ghaizabad       34"
      ]
     },
     "execution_count": 20,
     "metadata": {},
     "output_type": "execute_result"
    }
   ],
   "source": [
    "data"
   ]
  },
  {
   "cell_type": "code",
   "execution_count": 21,
   "id": "b32f5d96",
   "metadata": {},
   "outputs": [
    {
     "data": {
      "text/plain": [
       "' index    Brand  year  kms Driven      city  Milaege\\n     0   Maruti  2012       50000   Chennai       25\\n     1     Benz  2000       20000      Pune       23\\n     2  Hyundai  2001        2500    Mumbai       21\\n     3     Tata  2002        1500   kolkata       19\\n     4 Mahindra  2003        2300 Bangalore       23\\n     5  Renault  1998       13509     Delhi       43\\n     6      BMW  1999        4058     Vizag       21\\n     7    Auadi  1999        5987   Guragon       23\\n     8       RR  2000        4890 Ghaizabad       34'"
      ]
     },
     "execution_count": 21,
     "metadata": {},
     "output_type": "execute_result"
    }
   ],
   "source": [
    "data.to_string(index=False)"
   ]
  },
  {
   "cell_type": "code",
   "execution_count": 22,
   "id": "dc8e5704",
   "metadata": {},
   "outputs": [
    {
     "data": {
      "text/html": [
       "<div>\n",
       "<style scoped>\n",
       "    .dataframe tbody tr th:only-of-type {\n",
       "        vertical-align: middle;\n",
       "    }\n",
       "\n",
       "    .dataframe tbody tr th {\n",
       "        vertical-align: top;\n",
       "    }\n",
       "\n",
       "    .dataframe thead th {\n",
       "        text-align: right;\n",
       "    }\n",
       "</style>\n",
       "<table border=\"1\" class=\"dataframe\">\n",
       "  <thead>\n",
       "    <tr style=\"text-align: right;\">\n",
       "      <th></th>\n",
       "      <th>index</th>\n",
       "      <th>Brand</th>\n",
       "      <th>year</th>\n",
       "      <th>kms Driven</th>\n",
       "      <th>city</th>\n",
       "      <th>Milaege</th>\n",
       "    </tr>\n",
       "  </thead>\n",
       "  <tbody>\n",
       "    <tr>\n",
       "      <th>0</th>\n",
       "      <td>0</td>\n",
       "      <td>Maruti</td>\n",
       "      <td>2012</td>\n",
       "      <td>50000</td>\n",
       "      <td>Chennai</td>\n",
       "      <td>25</td>\n",
       "    </tr>\n",
       "    <tr>\n",
       "      <th>1</th>\n",
       "      <td>1</td>\n",
       "      <td>Benz</td>\n",
       "      <td>2000</td>\n",
       "      <td>20000</td>\n",
       "      <td>Pune</td>\n",
       "      <td>23</td>\n",
       "    </tr>\n",
       "    <tr>\n",
       "      <th>2</th>\n",
       "      <td>2</td>\n",
       "      <td>Hyundai</td>\n",
       "      <td>2001</td>\n",
       "      <td>2500</td>\n",
       "      <td>Mumbai</td>\n",
       "      <td>21</td>\n",
       "    </tr>\n",
       "    <tr>\n",
       "      <th>3</th>\n",
       "      <td>3</td>\n",
       "      <td>Tata</td>\n",
       "      <td>2002</td>\n",
       "      <td>1500</td>\n",
       "      <td>kolkata</td>\n",
       "      <td>19</td>\n",
       "    </tr>\n",
       "    <tr>\n",
       "      <th>4</th>\n",
       "      <td>4</td>\n",
       "      <td>Mahindra</td>\n",
       "      <td>2003</td>\n",
       "      <td>2300</td>\n",
       "      <td>Bangalore</td>\n",
       "      <td>23</td>\n",
       "    </tr>\n",
       "    <tr>\n",
       "      <th>5</th>\n",
       "      <td>5</td>\n",
       "      <td>Renault</td>\n",
       "      <td>1998</td>\n",
       "      <td>13509</td>\n",
       "      <td>Delhi</td>\n",
       "      <td>43</td>\n",
       "    </tr>\n",
       "    <tr>\n",
       "      <th>6</th>\n",
       "      <td>6</td>\n",
       "      <td>BMW</td>\n",
       "      <td>1999</td>\n",
       "      <td>4058</td>\n",
       "      <td>Vizag</td>\n",
       "      <td>21</td>\n",
       "    </tr>\n",
       "    <tr>\n",
       "      <th>7</th>\n",
       "      <td>7</td>\n",
       "      <td>Auadi</td>\n",
       "      <td>1999</td>\n",
       "      <td>5987</td>\n",
       "      <td>Guragon</td>\n",
       "      <td>23</td>\n",
       "    </tr>\n",
       "    <tr>\n",
       "      <th>8</th>\n",
       "      <td>8</td>\n",
       "      <td>RR</td>\n",
       "      <td>2000</td>\n",
       "      <td>4890</td>\n",
       "      <td>Ghaizabad</td>\n",
       "      <td>34</td>\n",
       "    </tr>\n",
       "  </tbody>\n",
       "</table>\n",
       "</div>"
      ],
      "text/plain": [
       "   index     Brand  year  kms Driven       city  Milaege\n",
       "0      0    Maruti  2012       50000    Chennai       25\n",
       "1      1      Benz  2000       20000       Pune       23\n",
       "2      2   Hyundai  2001        2500     Mumbai       21\n",
       "3      3      Tata  2002        1500    kolkata       19\n",
       "4      4  Mahindra  2003        2300  Bangalore       23\n",
       "5      5   Renault  1998       13509      Delhi       43\n",
       "6      6       BMW  1999        4058      Vizag       21\n",
       "7      7     Auadi  1999        5987    Guragon       23\n",
       "8      8        RR  2000        4890  Ghaizabad       34"
      ]
     },
     "execution_count": 22,
     "metadata": {},
     "output_type": "execute_result"
    }
   ],
   "source": [
    "data"
   ]
  },
  {
   "cell_type": "code",
   "execution_count": 23,
   "id": "98d8c000",
   "metadata": {},
   "outputs": [],
   "source": [
    "data=pd.DataFrame"
   ]
  },
  {
   "cell_type": "code",
   "execution_count": 26,
   "id": "734f1691",
   "metadata": {},
   "outputs": [
    {
     "data": {
      "text/plain": [
       "<property at 0x1d89bff34c0>"
      ]
     },
     "execution_count": 26,
     "metadata": {},
     "output_type": "execute_result"
    }
   ],
   "source": [
    "data.shape"
   ]
  },
  {
   "cell_type": "code",
   "execution_count": 25,
   "id": "709155d2",
   "metadata": {},
   "outputs": [
    {
     "data": {
      "text/plain": [
       "<function pandas.core.frame.DataFrame.info(self, verbose: 'bool | None' = None, buf: 'WriteBuffer[str] | None' = None, max_cols: 'int | None' = None, memory_usage: 'bool | str | None' = None, show_counts: 'bool | None' = None) -> 'None'>"
      ]
     },
     "execution_count": 25,
     "metadata": {},
     "output_type": "execute_result"
    }
   ],
   "source": [
    "data.info"
   ]
  },
  {
   "cell_type": "code",
   "execution_count": null,
   "id": "1e35542d",
   "metadata": {},
   "outputs": [],
   "source": []
  }
 ],
 "metadata": {
  "kernelspec": {
   "display_name": "Python 3 (ipykernel)",
   "language": "python",
   "name": "python3"
  },
  "language_info": {
   "codemirror_mode": {
    "name": "ipython",
    "version": 3
   },
   "file_extension": ".py",
   "mimetype": "text/x-python",
   "name": "python",
   "nbconvert_exporter": "python",
   "pygments_lexer": "ipython3",
   "version": "3.11.3"
  }
 },
 "nbformat": 4,
 "nbformat_minor": 5
}
